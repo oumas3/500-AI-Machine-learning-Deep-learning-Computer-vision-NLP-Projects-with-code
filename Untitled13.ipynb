{
  "cells": [
    {
      "cell_type": "markdown",
      "metadata": {
        "id": "view-in-github",
        "colab_type": "text"
      },
      "source": [
        "<a href=\"https://colab.research.google.com/github/oumas3/500-AI-Machine-learning-Deep-learning-Computer-vision-NLP-Projects-with-code/blob/main/Untitled13.ipynb\" target=\"_parent\"><img src=\"https://colab.research.google.com/assets/colab-badge.svg\" alt=\"Open In Colab\"/></a>"
      ]
    },
    {
      "cell_type": "markdown",
      "metadata": {
        "id": "E0wXlm0RM2k0"
      },
      "source": [
        "# Nouvelle section"
      ]
    },
    {
      "cell_type": "code",
      "execution_count": null,
      "metadata": {
        "colab": {
          "base_uri": "https://localhost:8080/"
        },
        "id": "p320Wv-rNQgO",
        "outputId": "bc7512ff-9e23-4df8-b23a-b67ce04d30c1"
      },
      "outputs": [
        {
          "name": "stdout",
          "output_type": "stream",
          "text": [
            "Looking in indexes: https://pypi.org/simple, https://us-python.pkg.dev/colab-wheels/public/simple/\n",
            "Requirement already satisfied: flask in /usr/local/lib/python3.10/dist-packages (2.2.4)\n",
            "Requirement already satisfied: Werkzeug>=2.2.2 in /usr/local/lib/python3.10/dist-packages (from flask) (2.3.0)\n",
            "Requirement already satisfied: Jinja2>=3.0 in /usr/local/lib/python3.10/dist-packages (from flask) (3.1.2)\n",
            "Requirement already satisfied: itsdangerous>=2.0 in /usr/local/lib/python3.10/dist-packages (from flask) (2.1.2)\n",
            "Requirement already satisfied: click>=8.0 in /usr/local/lib/python3.10/dist-packages (from flask) (8.1.3)\n",
            "Requirement already satisfied: MarkupSafe>=2.0 in /usr/local/lib/python3.10/dist-packages (from Jinja2>=3.0->flask) (2.1.2)\n",
            "Looking in indexes: https://pypi.org/simple, https://us-python.pkg.dev/colab-wheels/public/simple/\n",
            "Collecting sentencepiece\n",
            "  Downloading sentencepiece-0.1.99-cp310-cp310-manylinux_2_17_x86_64.manylinux2014_x86_64.whl (1.3 MB)\n",
            "\u001b[2K     \u001b[90m━━━━━━━━━━━━━━━━━━━━━━━━━━━━━━━━━━━━━━━━\u001b[0m \u001b[32m1.3/1.3 MB\u001b[0m \u001b[31m25.4 MB/s\u001b[0m eta \u001b[36m0:00:00\u001b[0m\n",
            "\u001b[?25hInstalling collected packages: sentencepiece\n",
            "Successfully installed sentencepiece-0.1.99\n",
            "Looking in indexes: https://pypi.org/simple, https://us-python.pkg.dev/colab-wheels/public/simple/\n",
            "Collecting tokenizer\n",
            "  Downloading tokenizer-3.4.2-py2.py3-none-any.whl (79 kB)\n",
            "\u001b[2K     \u001b[90m━━━━━━━━━━━━━━━━━━━━━━━━━━━━━━━━━━━━━━━━\u001b[0m \u001b[32m79.1/79.1 kB\u001b[0m \u001b[31m4.7 MB/s\u001b[0m eta \u001b[36m0:00:00\u001b[0m\n",
            "\u001b[?25hInstalling collected packages: tokenizer\n",
            "Successfully installed tokenizer-3.4.2\n",
            "Looking in indexes: https://pypi.org/simple, https://us-python.pkg.dev/colab-wheels/public/simple/\n",
            "Collecting transformers\n",
            "  Downloading transformers-4.29.2-py3-none-any.whl (7.1 MB)\n",
            "\u001b[2K     \u001b[90m━━━━━━━━━━━━━━━━━━━━━━━━━━━━━━━━━━━━━━━━\u001b[0m \u001b[32m7.1/7.1 MB\u001b[0m \u001b[31m68.4 MB/s\u001b[0m eta \u001b[36m0:00:00\u001b[0m\n",
            "\u001b[?25hRequirement already satisfied: filelock in /usr/local/lib/python3.10/dist-packages (from transformers) (3.12.0)\n",
            "Collecting huggingface-hub<1.0,>=0.14.1 (from transformers)\n",
            "  Downloading huggingface_hub-0.14.1-py3-none-any.whl (224 kB)\n",
            "\u001b[2K     \u001b[90m━━━━━━━━━━━━━━━━━━━━━━━━━━━━━━━━━━━━━━\u001b[0m \u001b[32m224.5/224.5 kB\u001b[0m \u001b[31m24.3 MB/s\u001b[0m eta \u001b[36m0:00:00\u001b[0m\n",
            "\u001b[?25hRequirement already satisfied: numpy>=1.17 in /usr/local/lib/python3.10/dist-packages (from transformers) (1.22.4)\n",
            "Requirement already satisfied: packaging>=20.0 in /usr/local/lib/python3.10/dist-packages (from transformers) (23.1)\n",
            "Requirement already satisfied: pyyaml>=5.1 in /usr/local/lib/python3.10/dist-packages (from transformers) (6.0)\n",
            "Requirement already satisfied: regex!=2019.12.17 in /usr/local/lib/python3.10/dist-packages (from transformers) (2022.10.31)\n",
            "Requirement already satisfied: requests in /usr/local/lib/python3.10/dist-packages (from transformers) (2.27.1)\n",
            "Collecting tokenizers!=0.11.3,<0.14,>=0.11.1 (from transformers)\n",
            "  Downloading tokenizers-0.13.3-cp310-cp310-manylinux_2_17_x86_64.manylinux2014_x86_64.whl (7.8 MB)\n",
            "\u001b[2K     \u001b[90m━━━━━━━━━━━━━━━━━━━━━━━━━━━━━━━━━━━━━━━━\u001b[0m \u001b[32m7.8/7.8 MB\u001b[0m \u001b[31m99.5 MB/s\u001b[0m eta \u001b[36m0:00:00\u001b[0m\n",
            "\u001b[?25hRequirement already satisfied: tqdm>=4.27 in /usr/local/lib/python3.10/dist-packages (from transformers) (4.65.0)\n",
            "Requirement already satisfied: fsspec in /usr/local/lib/python3.10/dist-packages (from huggingface-hub<1.0,>=0.14.1->transformers) (2023.4.0)\n",
            "Requirement already satisfied: typing-extensions>=3.7.4.3 in /usr/local/lib/python3.10/dist-packages (from huggingface-hub<1.0,>=0.14.1->transformers) (4.5.0)\n",
            "Requirement already satisfied: urllib3<1.27,>=1.21.1 in /usr/local/lib/python3.10/dist-packages (from requests->transformers) (1.26.15)\n",
            "Requirement already satisfied: certifi>=2017.4.17 in /usr/local/lib/python3.10/dist-packages (from requests->transformers) (2022.12.7)\n",
            "Requirement already satisfied: charset-normalizer~=2.0.0 in /usr/local/lib/python3.10/dist-packages (from requests->transformers) (2.0.12)\n",
            "Requirement already satisfied: idna<4,>=2.5 in /usr/local/lib/python3.10/dist-packages (from requests->transformers) (3.4)\n",
            "Installing collected packages: tokenizers, huggingface-hub, transformers\n",
            "Successfully installed huggingface-hub-0.14.1 tokenizers-0.13.3 transformers-4.29.2\n"
          ]
        }
      ],
      "source": [
        "!pip install flask\n",
        "!pip install sentencepiece\n",
        "!pip install tokenizer\n",
        "!pip install transformers"
      ]
    },
    {
      "cell_type": "code",
      "execution_count": null,
      "metadata": {
        "colab": {
          "base_uri": "https://localhost:8080/"
        },
        "id": "2aHhde46MsO-",
        "outputId": "078ac186-5aa5-4718-a6fa-d3e9ab997dad"
      },
      "outputs": [
        {
          "name": "stdout",
          "output_type": "stream",
          "text": [
            "Writing index.html\n"
          ]
        }
      ],
      "source": [
        "%%writefile index.html\n",
        "<html>\n",
        "  <head>\n",
        "    <title>Paraphrasing Model</title>\n",
        "  </head>\n",
        "  <body>\n",
        "    <h1>Paraphrasing Model</h1>\n",
        "    <form action=\"/\" method=\"POST\">\n",
        "      <textarea name=\"input_text\"></textarea>\n",
        "      <br/>\n",
        "      <input type=\"submit\" value=\"Paraphrase\"/>\n",
        "    </form>\n",
        "    <h2>Output:</h2>\n",
        "    <div id=\"output\"></div>\n",
        "    <script>\n",
        "      const form = document.querySelector('form');\n",
        "      const outputDiv = document.querySelector('#output');\n",
        "      \n",
        "      form.addEventListener('submit', (event) => {\n",
        "        event.preventDefault();\n",
        "        const inputText = form.querySelector('textarea').value;\n",
        "        fetch('/', {\n",
        "          method: 'POST',\n",
        "          body: JSON.stringify({input_text: inputText}),\n",
        "          headers: {'Content-Type': 'application/json'}\n",
        "        })\n",
        "        .then(response => response.json())\n",
        "        .then(data => {\n",
        "          outputDiv.innerHTML = data['paraphrased_text'];\n",
        "        })\n",
        "        .catch(error => {\n",
        "          console.error('Error:', error);\n",
        "        });\n",
        "      });\n",
        "    </script>\n",
        "  </body>\n",
        "</html>\n"
      ]
    },
    {
      "cell_type": "code",
      "execution_count": null,
      "metadata": {
        "colab": {
          "base_uri": "https://localhost:8080/"
        },
        "id": "ZHmgMucAPGyc",
        "outputId": "7ad06381-cb9a-4ccd-b64d-a7ab5f36b895"
      },
      "outputs": [
        {
          "name": "stdout",
          "output_type": "stream",
          "text": [
            "Name: Flask\n",
            "Version: 2.2.4\n",
            "Summary: A simple framework for building complex web applications.\n",
            "Home-page: https://palletsprojects.com/p/flask\n",
            "Author: Armin Ronacher\n",
            "Author-email: armin.ronacher@active-4.com\n",
            "License: BSD-3-Clause\n",
            "Location: /usr/local/lib/python3.10/dist-packages\n",
            "Requires: click, itsdangerous, Jinja2, Werkzeug\n",
            "Required-by: community\n"
          ]
        }
      ],
      "source": [
        "pip show flask"
      ]
    },
    {
      "cell_type": "code",
      "execution_count": null,
      "metadata": {
        "id": "CouOUUl9PdRh"
      },
      "outputs": [],
      "source": [
        "from google.colab import drive\n",
        "drive.mount('/content/drive')"
      ]
    },
    {
      "cell_type": "code",
      "execution_count": null,
      "metadata": {
        "colab": {
          "base_uri": "https://localhost:8080/"
        },
        "id": "orq9M4HHZsgO",
        "outputId": "9b961d80-4b89-4a69-95a0-80a5031efb31"
      },
      "outputs": [
        {
          "name": "stdout",
          "output_type": "stream",
          "text": [
            "Ngrok Tunnel URL: NgrokTunnel: \"https://01b7-34-83-189-94.ngrok.io\" -> \"http://localhost:80\"\n"
          ]
        }
      ],
      "source": [
        "from pyngrok import ngrok\n",
        "\n",
        "# Set the port you want to expose\n",
        "port = 80\n",
        "\n",
        "# Create an HTTP tunnel\n",
        "public_url = ngrok.connect(port, \"http\")\n",
        "\n",
        "# Print the public URL of the tunnel\n",
        "print(\"Ngrok Tunnel URL:\", public_url)\n"
      ]
    },
    {
      "cell_type": "code",
      "execution_count": null,
      "metadata": {
        "colab": {
          "background_save": true,
          "base_uri": "https://localhost:8080/"
        },
        "id": "vdEuRwjfQTjz",
        "outputId": "1a6f551c-9d33-4b02-c618-e825ff66177f"
      },
      "outputs": [
        {
          "name": "stdout",
          "output_type": "stream",
          "text": [
            " * Serving Flask app '__main__'\n",
            " * Debug mode: off\n"
          ]
        },
        {
          "name": "stderr",
          "output_type": "stream",
          "text": [
            "INFO:werkzeug:\u001b[31m\u001b[1mWARNING: This is a development server. Do not use it in a production deployment. Use a production WSGI server instead.\u001b[0m\n",
            " * Running on all addresses (0.0.0.0)\n",
            " * Running on http://127.0.0.1:80\n",
            " * Running on http://172.28.0.12:80\n",
            "INFO:werkzeug:\u001b[33mPress CTRL+C to quit\u001b[0m\n",
            "ERROR:__main__:Exception on / [GET]\n",
            "Traceback (most recent call last):\n",
            "  File \"/usr/local/lib/python3.10/dist-packages/flask/app.py\", line 2529, in wsgi_app\n",
            "    response = self.full_dispatch_request()\n",
            "  File \"/usr/local/lib/python3.10/dist-packages/flask/app.py\", line 1825, in full_dispatch_request\n",
            "    rv = self.handle_user_exception(e)\n",
            "  File \"/usr/local/lib/python3.10/dist-packages/flask/app.py\", line 1823, in full_dispatch_request\n",
            "    rv = self.dispatch_request()\n",
            "  File \"/usr/local/lib/python3.10/dist-packages/flask/app.py\", line 1799, in dispatch_request\n",
            "    return self.ensure_sync(self.view_functions[rule.endpoint])(**view_args)\n",
            "  File \"<ipython-input-7-f5e7e444dc38>\", line 14, in index\n",
            "    return render_template(\"index.html\")\n",
            "  File \"/usr/local/lib/python3.10/dist-packages/flask/templating.py\", line 146, in render_template\n",
            "    template = app.jinja_env.get_or_select_template(template_name_or_list)\n",
            "  File \"/usr/local/lib/python3.10/dist-packages/jinja2/environment.py\", line 1081, in get_or_select_template\n",
            "    return self.get_template(template_name_or_list, parent, globals)\n",
            "  File \"/usr/local/lib/python3.10/dist-packages/jinja2/environment.py\", line 1010, in get_template\n",
            "    return self._load_template(name, globals)\n",
            "  File \"/usr/local/lib/python3.10/dist-packages/jinja2/environment.py\", line 969, in _load_template\n",
            "    template = self.loader.load(self, name, self.make_globals(globals))\n",
            "  File \"/usr/local/lib/python3.10/dist-packages/jinja2/loaders.py\", line 126, in load\n",
            "    source, filename, uptodate = self.get_source(environment, name)\n",
            "  File \"/usr/local/lib/python3.10/dist-packages/flask/templating.py\", line 62, in get_source\n",
            "    return self._get_source_fast(environment, template)\n",
            "  File \"/usr/local/lib/python3.10/dist-packages/flask/templating.py\", line 98, in _get_source_fast\n",
            "    raise TemplateNotFound(template)\n",
            "jinja2.exceptions.TemplateNotFound: index.html\n",
            "INFO:werkzeug:127.0.0.1 - - [18/May/2023 15:09:25] \"\u001b[35m\u001b[1mGET / HTTP/1.1\u001b[0m\" 500 -\n",
            "INFO:werkzeug:127.0.0.1 - - [18/May/2023 15:09:25] \"\u001b[33mGET /static/EuclidSquare-Medium-WebS.woff HTTP/1.1\u001b[0m\" 404 -\n",
            "INFO:werkzeug:127.0.0.1 - - [18/May/2023 15:09:25] \"\u001b[33mGET /static/EuclidSquare-Regular-WebS.woff HTTP/1.1\u001b[0m\" 404 -\n",
            "INFO:werkzeug:127.0.0.1 - - [18/May/2023 15:09:26] \"\u001b[33mGET /static/IBMPlexMono-SemiBoldItalic.woff HTTP/1.1\u001b[0m\" 404 -\n",
            "INFO:werkzeug:127.0.0.1 - - [18/May/2023 15:09:26] \"\u001b[33mGET /static/IBMPlexMono-TextItalic.woff HTTP/1.1\u001b[0m\" 404 -\n",
            "INFO:werkzeug:127.0.0.1 - - [18/May/2023 15:09:26] \"\u001b[33mGET /static/IBMPlexMono-SemiBold.woff HTTP/1.1\u001b[0m\" 404 -\n",
            "INFO:werkzeug:127.0.0.1 - - [18/May/2023 15:09:26] \"\u001b[33mGET /static/IBMPlexMono-Text.woff HTTP/1.1\u001b[0m\" 404 -\n",
            "INFO:werkzeug:127.0.0.1 - - [18/May/2023 15:09:26] \"\u001b[33mGET /static/EuclidSquare-MediumItalic-WebS.woff HTTP/1.1\u001b[0m\" 404 -\n",
            "INFO:werkzeug:127.0.0.1 - - [18/May/2023 15:09:26] \"\u001b[33mGET /static/EuclidSquare-RegularItalic-WebS.woff HTTP/1.1\u001b[0m\" 404 -\n",
            "INFO:werkzeug:127.0.0.1 - - [18/May/2023 15:09:26] \"\u001b[33mGET /favicon.ico HTTP/1.1\u001b[0m\" 404 -\n",
            "ERROR:__main__:Exception on / [GET]\n",
            "Traceback (most recent call last):\n",
            "  File \"/usr/local/lib/python3.10/dist-packages/flask/app.py\", line 2529, in wsgi_app\n",
            "    response = self.full_dispatch_request()\n",
            "  File \"/usr/local/lib/python3.10/dist-packages/flask/app.py\", line 1825, in full_dispatch_request\n",
            "    rv = self.handle_user_exception(e)\n",
            "  File \"/usr/local/lib/python3.10/dist-packages/flask/app.py\", line 1823, in full_dispatch_request\n",
            "    rv = self.dispatch_request()\n",
            "  File \"/usr/local/lib/python3.10/dist-packages/flask/app.py\", line 1799, in dispatch_request\n",
            "    return self.ensure_sync(self.view_functions[rule.endpoint])(**view_args)\n",
            "  File \"<ipython-input-7-f5e7e444dc38>\", line 14, in index\n",
            "    return render_template(\"index.html\")\n",
            "  File \"/usr/local/lib/python3.10/dist-packages/flask/templating.py\", line 146, in render_template\n",
            "    template = app.jinja_env.get_or_select_template(template_name_or_list)\n",
            "  File \"/usr/local/lib/python3.10/dist-packages/jinja2/environment.py\", line 1081, in get_or_select_template\n",
            "    return self.get_template(template_name_or_list, parent, globals)\n",
            "  File \"/usr/local/lib/python3.10/dist-packages/jinja2/environment.py\", line 1010, in get_template\n",
            "    return self._load_template(name, globals)\n",
            "  File \"/usr/local/lib/python3.10/dist-packages/jinja2/environment.py\", line 969, in _load_template\n",
            "    template = self.loader.load(self, name, self.make_globals(globals))\n",
            "  File \"/usr/local/lib/python3.10/dist-packages/jinja2/loaders.py\", line 126, in load\n",
            "    source, filename, uptodate = self.get_source(environment, name)\n",
            "  File \"/usr/local/lib/python3.10/dist-packages/flask/templating.py\", line 62, in get_source\n",
            "    return self._get_source_fast(environment, template)\n",
            "  File \"/usr/local/lib/python3.10/dist-packages/flask/templating.py\", line 98, in _get_source_fast\n",
            "    raise TemplateNotFound(template)\n",
            "jinja2.exceptions.TemplateNotFound: index.html\n",
            "INFO:werkzeug:127.0.0.1 - - [18/May/2023 15:09:26] \"\u001b[35m\u001b[1mGET / HTTP/1.1\u001b[0m\" 500 -\n",
            "INFO:werkzeug:127.0.0.1 - - [18/May/2023 15:09:27] \"\u001b[33mGET /static/EuclidSquare-Medium-WebS.woff HTTP/1.1\u001b[0m\" 404 -\n",
            "INFO:werkzeug:127.0.0.1 - - [18/May/2023 15:09:27] \"\u001b[33mGET /static/IBMPlexMono-SemiBoldItalic.woff HTTP/1.1\u001b[0m\" 404 -\n",
            "INFO:werkzeug:127.0.0.1 - - [18/May/2023 15:09:27] \"\u001b[33mGET /static/EuclidSquare-Regular-WebS.woff HTTP/1.1\u001b[0m\" 404 -\n",
            "INFO:werkzeug:127.0.0.1 - - [18/May/2023 15:09:27] \"\u001b[33mGET /static/IBMPlexMono-TextItalic.woff HTTP/1.1\u001b[0m\" 404 -\n",
            "INFO:werkzeug:127.0.0.1 - - [18/May/2023 15:09:28] \"\u001b[33mGET /static/EuclidSquare-MediumItalic-WebS.woff HTTP/1.1\u001b[0m\" 404 -\n",
            "INFO:werkzeug:127.0.0.1 - - [18/May/2023 15:09:28] \"\u001b[33mGET /static/IBMPlexMono-SemiBold.woff HTTP/1.1\u001b[0m\" 404 -\n",
            "INFO:werkzeug:127.0.0.1 - - [18/May/2023 15:09:28] \"\u001b[33mGET /static/EuclidSquare-RegularItalic-WebS.woff HTTP/1.1\u001b[0m\" 404 -\n",
            "INFO:werkzeug:127.0.0.1 - - [18/May/2023 15:09:29] \"\u001b[33mGET /static/IBMPlexMono-Text.woff HTTP/1.1\u001b[0m\" 404 -\n",
            "ERROR:__main__:Exception on / [GET]\n",
            "Traceback (most recent call last):\n",
            "  File \"/usr/local/lib/python3.10/dist-packages/flask/app.py\", line 2529, in wsgi_app\n",
            "    response = self.full_dispatch_request()\n",
            "  File \"/usr/local/lib/python3.10/dist-packages/flask/app.py\", line 1825, in full_dispatch_request\n",
            "    rv = self.handle_user_exception(e)\n",
            "  File \"/usr/local/lib/python3.10/dist-packages/flask/app.py\", line 1823, in full_dispatch_request\n",
            "    rv = self.dispatch_request()\n",
            "  File \"/usr/local/lib/python3.10/dist-packages/flask/app.py\", line 1799, in dispatch_request\n",
            "    return self.ensure_sync(self.view_functions[rule.endpoint])(**view_args)\n",
            "  File \"<ipython-input-7-f5e7e444dc38>\", line 14, in index\n",
            "    return render_template(\"index.html\")\n",
            "  File \"/usr/local/lib/python3.10/dist-packages/flask/templating.py\", line 146, in render_template\n",
            "    template = app.jinja_env.get_or_select_template(template_name_or_list)\n",
            "  File \"/usr/local/lib/python3.10/dist-packages/jinja2/environment.py\", line 1081, in get_or_select_template\n",
            "    return self.get_template(template_name_or_list, parent, globals)\n",
            "  File \"/usr/local/lib/python3.10/dist-packages/jinja2/environment.py\", line 1010, in get_template\n",
            "    return self._load_template(name, globals)\n",
            "  File \"/usr/local/lib/python3.10/dist-packages/jinja2/environment.py\", line 969, in _load_template\n",
            "    template = self.loader.load(self, name, self.make_globals(globals))\n",
            "  File \"/usr/local/lib/python3.10/dist-packages/jinja2/loaders.py\", line 126, in load\n",
            "    source, filename, uptodate = self.get_source(environment, name)\n",
            "  File \"/usr/local/lib/python3.10/dist-packages/flask/templating.py\", line 62, in get_source\n",
            "    return self._get_source_fast(environment, template)\n",
            "  File \"/usr/local/lib/python3.10/dist-packages/flask/templating.py\", line 98, in _get_source_fast\n",
            "    raise TemplateNotFound(template)\n",
            "jinja2.exceptions.TemplateNotFound: index.html\n",
            "INFO:werkzeug:127.0.0.1 - - [18/May/2023 15:11:57] \"\u001b[35m\u001b[1mGET / HTTP/1.1\u001b[0m\" 500 -\n",
            "INFO:werkzeug:127.0.0.1 - - [18/May/2023 15:11:57] \"\u001b[33mGET /static/EuclidSquare-Regular-WebS.woff HTTP/1.1\u001b[0m\" 404 -\n",
            "INFO:werkzeug:127.0.0.1 - - [18/May/2023 15:11:57] \"\u001b[33mGET /static/EuclidSquare-Medium-WebS.woff HTTP/1.1\u001b[0m\" 404 -\n",
            "INFO:werkzeug:127.0.0.1 - - [18/May/2023 15:11:57] \"\u001b[33mGET /static/IBMPlexMono-SemiBoldItalic.woff HTTP/1.1\u001b[0m\" 404 -\n",
            "INFO:werkzeug:127.0.0.1 - - [18/May/2023 15:11:57] \"\u001b[33mGET /static/EuclidSquare-RegularItalic-WebS.woff HTTP/1.1\u001b[0m\" 404 -\n",
            "INFO:werkzeug:127.0.0.1 - - [18/May/2023 15:11:57] \"\u001b[33mGET /static/IBMPlexMono-SemiBold.woff HTTP/1.1\u001b[0m\" 404 -\n",
            "INFO:werkzeug:127.0.0.1 - - [18/May/2023 15:11:57] \"\u001b[33mGET /static/IBMPlexMono-Text.woff HTTP/1.1\u001b[0m\" 404 -\n",
            "INFO:werkzeug:127.0.0.1 - - [18/May/2023 15:11:57] \"\u001b[33mGET /static/IBMPlexMono-TextItalic.woff HTTP/1.1\u001b[0m\" 404 -\n",
            "INFO:werkzeug:127.0.0.1 - - [18/May/2023 15:11:57] \"\u001b[33mGET /static/EuclidSquare-MediumItalic-WebS.woff HTTP/1.1\u001b[0m\" 404 -\n",
            "INFO:werkzeug:127.0.0.1 - - [18/May/2023 15:11:57] \"\u001b[33mGET /favicon.ico HTTP/1.1\u001b[0m\" 404 -\n"
          ]
        }
      ],
      "source": [
        "from flask import Flask, render_template\n",
        "\n",
        "app = Flask(__name__, template_folder='templates')\n",
        "\n",
        "@app.route('/')\n",
        "def index():\n",
        "    return render_template('index.html')\n",
        "\n",
        "if __name__ == '__main__':\n",
        "    app.run()\n",
        "\n",
        "# Load the T5 model and tokenizer\n",
        "model_name = \"t5-base\"\n",
        "tokenizer = T5Tokenizer.from_pretrained(model_name)\n",
        "model = T5ForConditionalGeneration.from_pretrained(model_name)\n",
        "\n",
        "# Define the index route\n",
        "@app.route(\"/\")\n",
        "def index():\n",
        "    return render_template(\"index.html\")\n",
        "\n",
        "# Define the paraphrasing route\n",
        "@app.route(\"/paraphrase\", methods=[\"POST\"])\n",
        "def paraphrase():\n",
        "    input_text = request.form[\"input_text\"]\n",
        "\n",
        "    # Perform paraphrasing using the T5 model\n",
        "    inputs = tokenizer.encode(\"paraphrase: \" + input_text, return_tensors=\"pt\")\n",
        "    outputs = model.generate(inputs, max_length=1000, do_sample=True, num_beams=10, temperature=1.5)\n",
        "    paraphrased_text = tokenizer.decode(outputs[0], skip_special_tokens=True)\n",
        "\n",
        "    return render_template(\"index.html\", paraphrased_text=paraphrased_text)\n",
        "\n",
        "if __name__ == \"__main__\":\n",
        "    app.run(host='0.0.0.0', port=80)\n",
        "\n"
      ]
    },
    {
      "cell_type": "code",
      "execution_count": null,
      "metadata": {
        "id": "CrsOzmK4YO_H"
      },
      "outputs": [],
      "source": [
        "!rm -rf /root/.ngrok2\n"
      ]
    },
    {
      "cell_type": "code",
      "execution_count": null,
      "metadata": {
        "id": "qYbNhZJJXVuu"
      },
      "outputs": [],
      "source": [
        "!pip install pyngrok\n"
      ]
    }
  ],
  "metadata": {
    "colab": {
      "provenance": [],
      "toc_visible": true,
      "authorship_tag": "ABX9TyPSMN1XEiF8b2Vo43Jljqoi",
      "include_colab_link": true
    },
    "kernelspec": {
      "display_name": "Python 3",
      "name": "python3"
    },
    "language_info": {
      "name": "python"
    }
  },
  "nbformat": 4,
  "nbformat_minor": 0
}